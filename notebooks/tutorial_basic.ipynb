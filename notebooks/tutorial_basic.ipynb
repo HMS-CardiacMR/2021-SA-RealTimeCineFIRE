{
 "cells": [
  {
   "cell_type": "code",
   "execution_count": 1,
   "metadata": {},
   "outputs": [],
   "source": [
    "import sys\n",
    "\n",
    "sys.path.append('../OffLineIntegration')\n",
    "\n",
    "from data.twix_datasets import DatasetTwixRadial"
   ]
  },
  {
   "cell_type": "code",
   "execution_count": null,
   "metadata": {},
   "outputs": [],
   "source": [
    "data = DatasetTwixRadial(opt=None)\n",
    "\n",
    "twix_dir   = '/mnt/alp/Research Data Sets/3T Raw Data/Ph_2022-06-09_rtPerf_MM_1999'\n",
    "twix_fname = 'meas_MID00625_FID182291_rtPerf_with_NonSelPulse_120lines_4pulses.dat'\n",
    "\n",
    "twix_filename = os.path.join(twix_dir, twix_fname)\n",
    "\n",
    "kspace_data   = data.load_twix(twix_filename, dtype=np.complex128)"
   ]
  },
  {
   "cell_type": "code",
   "execution_count": null,
   "metadata": {},
   "outputs": [],
   "source": []
  }
 ],
 "metadata": {
  "interpreter": {
   "hash": "f0d150f794bfc5794d86731e6f2bb39e71687c9919f7e98cd7bae3cdcd0a1692"
  },
  "kernelspec": {
   "display_name": "Python 3.7.12 ('DL')",
   "language": "python",
   "name": "python3"
  },
  "language_info": {
   "codemirror_mode": {
    "name": "ipython",
    "version": 3
   },
   "file_extension": ".py",
   "mimetype": "text/x-python",
   "name": "python",
   "nbconvert_exporter": "python",
   "pygments_lexer": "ipython3",
   "version": "3.7.12"
  },
  "orig_nbformat": 4
 },
 "nbformat": 4,
 "nbformat_minor": 2
}
